{
 "cells": [
  {
   "cell_type": "code",
   "execution_count": 7,
   "id": "6d01defa",
   "metadata": {},
   "outputs": [],
   "source": [
    "from datetime import datetime"
   ]
  },
  {
   "cell_type": "code",
   "execution_count": 110,
   "id": "649d79c0",
   "metadata": {},
   "outputs": [],
   "source": [
    "class Human():\n",
    "    def __init__(self, name, surname, ht, wt, by, bd, bm):\n",
    "        self.height = ht\n",
    "        self.weight = wt\n",
    "        self.birthyear = by\n",
    "        self.birthdate = bd\n",
    "        self.birthmonth = bm\n",
    "        self.name = name\n",
    "        self.surname = surname\n",
    "    def __ag(self):\n",
    "        return datetime.now() - datetime(self.birthyear, self.birthmonth, self.birthdate)\n",
    "    def age(self):\n",
    "        return self.__ag().days // 365\n",
    "    \n",
    "    def bmi(self):\n",
    "        return self.weight / self.height ** 2\n",
    "    \n",
    "    def judge_bmi(self):\n",
    "        if (self.bmi() < 18.0) & (self.bmi() >= 16.0): \n",
    "            print('Underweight')\n",
    "        elif (self.bmi() < 24.0) & (self.bmi() >= 18.0):\n",
    "            print('Normal')\n",
    "        elif (self.bmi() < 29.0) & (self.bmi() >= 25.0):\n",
    "            print('Overweight')\n",
    "        elif (self.bmi() < 39.0) & (self.bmi() >= 30.0):\n",
    "            print('Obese')\n",
    "        else:\n",
    "            print(\"You're dead!\")"
   ]
  },
  {
   "cell_type": "code",
   "execution_count": 75,
   "id": "292eea06",
   "metadata": {},
   "outputs": [],
   "source": [
    "h = Human('a', 'b', 1.62, 47, 2005, 24, 12)"
   ]
  },
  {
   "cell_type": "code",
   "execution_count": 111,
   "id": "fb39e368",
   "metadata": {},
   "outputs": [],
   "source": [
    "class Student(Human):\n",
    "    def __init__(self, clasa = 'none', grade = 'none', name = 'none', surname = 'none', ht = 0, wt = 0, by = 0, bd = 0, bm = 0):\n",
    "        super().__init__(name, surname, ht, wt, by, bd, bm)\n",
    "        self.grade = grade\n",
    "        self.clasa = clasa\n",
    "             \n",
    "    def eminent(self):\n",
    "        if self.grade >= 9:\n",
    "            print('Eminent')\n",
    "        else:\n",
    "            print('Not Eminent')\n",
    "    \n",
    "    def jbmo_qualified(self):\n",
    "        if self.age() > 16:\n",
    "            print('Not Qualified')\n",
    "        else:\n",
    "            print('Qualified')"
   ]
  },
  {
   "cell_type": "code",
   "execution_count": 112,
   "id": "786bf740",
   "metadata": {},
   "outputs": [],
   "source": [
    "s = Student(9, 8.67, 'a', 'b', 1.63, 200, 2006, 24, 2)\n",
    "s.grade = 8.67"
   ]
  },
  {
   "cell_type": "code",
   "execution_count": 119,
   "id": "00128601",
   "metadata": {},
   "outputs": [],
   "source": [
    "class Teacher(Human):\n",
    "    def __init__(self, classes_per_week, pay, name, surname, ht, wt, by, bd, bm):\n",
    "        super().__init__(name, surname, ht, wt, by, bd, bm)\n",
    "        self.classes_per_week = classes_per_week\n",
    "        self.__pay = pay\n",
    "    \n",
    "    def lessons_per_year(self):\n",
    "        return 35 * self.classes_per_week\n",
    "    \n",
    "    def annual_salary(self):\n",
    "        return 12 * self.__pay"
   ]
  },
  {
   "cell_type": "code",
   "execution_count": 120,
   "id": "988b4249",
   "metadata": {},
   "outputs": [],
   "source": [
    "t = Teacher(30, 4000, 'a', 'b', 1.70, 70, 1989, 31, 4)"
   ]
  },
  {
   "cell_type": "code",
   "execution_count": 121,
   "id": "34061c22",
   "metadata": {},
   "outputs": [
    {
     "data": {
      "text/plain": [
       "48000"
      ]
     },
     "execution_count": 121,
     "metadata": {},
     "output_type": "execute_result"
    }
   ],
   "source": [
    "t.annual_salary()"
   ]
  },
  {
   "cell_type": "code",
   "execution_count": null,
   "id": "e49522e6",
   "metadata": {},
   "outputs": [],
   "source": []
  }
 ],
 "metadata": {
  "kernelspec": {
   "display_name": "Python 3",
   "language": "python",
   "name": "python3"
  },
  "language_info": {
   "codemirror_mode": {
    "name": "ipython",
    "version": 3
   },
   "file_extension": ".py",
   "mimetype": "text/x-python",
   "name": "python",
   "nbconvert_exporter": "python",
   "pygments_lexer": "ipython3",
   "version": "3.8.8"
  }
 },
 "nbformat": 4,
 "nbformat_minor": 5
}
